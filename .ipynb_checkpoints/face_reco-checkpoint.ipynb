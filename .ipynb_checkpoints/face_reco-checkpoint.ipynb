{
 "cells": [
  {
   "cell_type": "code",
   "execution_count": 38,
   "metadata": {
    "scrolled": true
   },
   "outputs": [],
   "source": [
    "import face_recognition as fr\n",
    "import cv2\n",
    "import numpy as np\n",
    "import os"
   ]
  },
  {
   "cell_type": "code",
   "execution_count": 39,
   "metadata": {},
   "outputs": [],
   "source": [
    "images = os.listdir('images')\n",
    "test = os.listdir('test')\n",
    "#test.remove('.DS_Store')\n",
    "#images.remove('.DS_Store')\n",
    "X=[]\n",
    "Y=[]\n"
   ]
  },
  {
   "cell_type": "code",
   "execution_count": 40,
   "metadata": {},
   "outputs": [
    {
     "name": "stdout",
     "output_type": "stream",
     "text": [
      "['Disha Patani', 'Donald Trump', 'Narendra Modi']\n"
     ]
    }
   ],
   "source": [
    "#encoding sample images\n",
    "print(images)\n",
    "for query in images :\n",
    "    enquery = os.listdir('images/' + query)\n",
    "    for img in enquery :\n",
    "        image_to_be_matched = cv2.imread(cv2.samples.findFile(\"images/\" + query + \"/\" + img))  #only working for some images only\n",
    "        image_to_be_matched_encoded = fr.face_encodings(image_to_be_matched)[0]\n",
    "        X.append(image_to_be_matched_encoded)\n",
    "        Y.append(query)"
   ]
  },
  {
   "cell_type": "code",
   "execution_count": 41,
   "metadata": {},
   "outputs": [],
   "source": [
    "def addtext(image, text , coordinates):\n",
    "    font = cv2.FONT_HERSHEY_SIMPLEX \n",
    "    org = coordinates \n",
    "    fontScale = 0.6\n",
    "    color = (255, 0, 0)\n",
    "    thickness = 2\n",
    "    image = cv2.putText(image, text, org, font,fontScale, color, thickness, cv2.LINE_AA) "
   ]
  },
  {
   "cell_type": "code",
   "execution_count": 42,
   "metadata": {},
   "outputs": [],
   "source": [
    "def drawrect(top,bottom,image,index):\n",
    "        color = (255, 0, 0) \n",
    "        image = cv2.rectangle(image,top,bottom,color, 2) #2 is thickness\n",
    "        if index == -1 :\n",
    "            addtext(image,\"unknown\",top)\n",
    "        else :\n",
    "            addtext(image,Y[index],top)\n",
    "        "
   ]
  },
  {
   "cell_type": "code",
   "execution_count": 43,
   "metadata": {},
   "outputs": [],
   "source": [
    "for query in test:\n",
    "    image_to_be_matched = cv2.imread(cv2.samples.findFile(\"test/\"+query)) #only working for some images only\n",
    "    face_locations = fr.face_locations(image_to_be_matched)   # another attribute model=hog and model=cnn\n",
    "    face_encoding = fr.face_encodings(image_to_be_matched,face_locations)\n",
    "    \n",
    "    for encoding,location in zip(face_encoding,face_locations):\n",
    "        result = fr.compare_faces(X,encoding,0.6)\n",
    "        \n",
    "        if True in result:\n",
    "            top = (location[3],location[0])\n",
    "            bottom = (location[1],location[2])\n",
    "            drawrect(top,bottom,image_to_be_matched,result.index(True))\n",
    "        else :\n",
    "            top = (location[3],location[0])\n",
    "            bottom = (location[1],location[2])\n",
    "            drawrect(top,bottom,image_to_be_matched,-1)\n",
    "            \n",
    "    \n",
    "    cv2.imwrite(\"result/result\"+query, image_to_be_matched) \n",
    "            \n",
    "        "
   ]
  },
  {
   "cell_type": "code",
   "execution_count": null,
   "metadata": {},
   "outputs": [],
   "source": []
  },
  {
   "cell_type": "code",
   "execution_count": null,
   "metadata": {},
   "outputs": [],
   "source": []
  },
  {
   "cell_type": "code",
   "execution_count": null,
   "metadata": {},
   "outputs": [],
   "source": []
  }
 ],
 "metadata": {
  "kernelspec": {
   "display_name": "Python 3",
   "language": "python",
   "name": "python3"
  },
  "language_info": {
   "codemirror_mode": {
    "name": "ipython",
    "version": 3
   },
   "file_extension": ".py",
   "mimetype": "text/x-python",
   "name": "python",
   "nbconvert_exporter": "python",
   "pygments_lexer": "ipython3",
   "version": "3.8.3"
  }
 },
 "nbformat": 4,
 "nbformat_minor": 4
}
