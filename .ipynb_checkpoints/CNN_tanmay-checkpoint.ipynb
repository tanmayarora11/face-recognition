{
 "cells": [
  {
   "cell_type": "code",
   "execution_count": null,
   "metadata": {},
   "outputs": [],
   "source": [
    "import matplotlib.pyplot as plt\n",
    "from tensorflow import keras\n",
    "from keras import layers\n",
    "from keras.preprocessing import image_dataset_from_directory\n",
    "from keras.preprocessing.image import ImageDataGenerator\n",
    "from keras.preprocessing import image\n",
    "from keras.models import save_model,load_model\n",
    "import cv2\n",
    "import os\n",
    "import random\n",
    "import numpy as np"
   ]
  },
  {
   "cell_type": "code",
   "execution_count": null,
   "metadata": {},
   "outputs": [],
   "source": [
    "training_data = image_dataset_from_directory(\"images_cnn/\",labels=\"inferred\",image_size=(128,128),\n",
    "                                             shuffle=True,label_mode=\"int\")\n",
    "\n",
    "print(training_data.class_names)"
   ]
  },
  {
   "cell_type": "markdown",
   "metadata": {},
   "source": [
    "plt.figure(figsize=(12, 12))\n",
    "for images, labels in training_data.take(1):\n",
    "    for i in range(9):\n",
    "        ax = plt.subplot(3, 3, i + 1)\n",
    "        plt.imshow(images[i].numpy().astype(\"uint8\"))\n",
    "        plt.title(training_data.class_names[labels[i]])\n",
    "        plt.axis(\"off\")"
   ]
  },
  {
   "cell_type": "markdown",
   "metadata": {},
   "source": [
    "# NOT NEEDED USING INBUILT \n",
    "\n",
    "X=[]    #images\n",
    "Y=[]    #labels\n",
    "\n",
    "Names= os.listdir(\"images/\")\n",
    "if \".DS_Store\" in Names:\n",
    "    Names.remove(\".DS_Store\")\n",
    "\n",
    "for name in Names: \n",
    "    Images= os.listdir(\"images/\"+name)\n",
    "    if \".DS_Store\" in Images:\n",
    "        Images.remove(\".DS_Store\")\n",
    "    for image in Images:\n",
    "        img = cv2.imread(\"images/\"+name+\"/\"+image)\n",
    "        img = cv2.resize(img,(100,100))   # making image 100x100 px\n",
    "        X.append(img)\n",
    "        Y.append(name)\n",
    "      \n",
    "\n",
    "#SHUFFLING THE DATASET\n",
    "temp = list(zip(X, Y)) \n",
    "random.shuffle(temp) \n",
    "X, Y = zip(*temp) "
   ]
  },
  {
   "cell_type": "code",
   "execution_count": 27,
   "metadata": {},
   "outputs": [],
   "source": [
    "model= keras.Sequential(\n",
    "    [   # 32 is the output of conv2D and (3,3) is kernel window \n",
    "        layers.Conv2D(32, (3, 3), activation='relu',input_shape =(128,128,3)) ,   #input_shape needed if using as first layer 100*100 pixels 3 channel image\n",
    "        #(2,2) is the pool window size where we take max\n",
    "        layers.MaxPooling2D((2, 2)) ,\n",
    "        layers.Flatten(),\n",
    "        # As we currently have 3 people to reco hence 3 and softmax obviously to give ans between 0 to 1\n",
    "        layers.Dense(3, activation='softmax')\n",
    "    ]\n",
    ")\n",
    "\n",
    "model.compile(optimizer='adam',loss='sparse_categorical_crossentropy',metrics=['accuracy'])\n",
    "#model.summary()\n"
   ]
  },
  {
   "cell_type": "code",
   "execution_count": null,
   "metadata": {},
   "outputs": [],
   "source": [
    "model.fit(training_data, batch_size = 1 , epochs = 30)"
   ]
  },
  {
   "cell_type": "code",
   "execution_count": null,
   "metadata": {},
   "outputs": [],
   "source": [
    "model.summary()"
   ]
  },
  {
   "cell_type": "code",
   "execution_count": null,
   "metadata": {},
   "outputs": [],
   "source": [
    "save_model(model,'./');"
   ]
  },
  {
   "cell_type": "code",
   "execution_count": null,
   "metadata": {},
   "outputs": [],
   "source": [
    "model = load_model('./',compile=True)\n",
    "test = os.listdir('test')\n",
    "test.remove('.DS_Store')\n",
    "for i in test :\n",
    "    img = image.load_img('test/'+ i,target_size=(128,128))\n",
    "    plt.imshow(img)\n",
    "    plt.axis(\"off\")\n",
    "    plt.show()\n",
    "    \n",
    "    \n",
    "    X = image.img_to_array(img) #converting images to array\n",
    "    X = np.expand_dims(X,axis =0) #not utilising data genrator so we are providing additional dimension to dataset\n",
    "\n",
    "    var = model.predict(X)\n",
    "    print (var)\n",
    "    maxval = np.amax(var)\n",
    "    index = np.where(var[0] == maxval)\n",
    "    print(training_data.class_names[index[0][0]])"
   ]
  },
  {
   "cell_type": "code",
   "execution_count": null,
   "metadata": {
    "scrolled": true
   },
   "outputs": [],
   "source": []
  },
  {
   "cell_type": "code",
   "execution_count": null,
   "metadata": {},
   "outputs": [],
   "source": []
  }
 ],
 "metadata": {
  "kernelspec": {
   "display_name": "Python 3",
   "language": "python",
   "name": "python3"
  },
  "language_info": {
   "codemirror_mode": {
    "name": "ipython",
    "version": 3
   },
   "file_extension": ".py",
   "mimetype": "text/x-python",
   "name": "python",
   "nbconvert_exporter": "python",
   "pygments_lexer": "ipython3",
   "version": "3.8.3"
  }
 },
 "nbformat": 4,
 "nbformat_minor": 4
}
